{
 "cells": [
  {
   "cell_type": "code",
   "execution_count": null,
   "id": "dc035a73-5e8c-45de-bac0-d0651b85da06",
   "metadata": {},
   "outputs": [
    {
     "ename": "",
     "evalue": "",
     "output_type": "error",
     "traceback": [
      "\u001b[1;31mFailed to start the Kernel. \n",
      "\u001b[1;31mImportError: /home/t/anaconda3/envs/segmentation/lib/python3.12/lib-dynload/_sqlite3.cpython-312-x86_64-linux-gnu.so: undefined symbol: sqlite3_deserialize. \n",
      "\u001b[1;31mView Jupyter <a href='command:jupyter.viewOutput'>log</a> for further details."
     ]
    }
   ],
   "source": [
    "import numpy as np\n",
    "import open3d as o3d\n",
    "import matplotlib.pyplot as plt\n",
    "\n",
    "pcd_path = \"/home/t/Desktop/work/datasets/cwc/geometry/cloud.ply\"  # Update this path to your actual PCD file path\n",
    "\n",
    "\n",
    "#pcd_path = \"/home/t/Desktop/work/datasets/output.ply\"  # Update this path to your actual PCD file path\n",
    "pcd = o3d.io.read_point_cloud(pcd_path)\n",
    "\n",
    "#pcd_path = \"/home/t/Desktop/work/datasets/output.ply\"  # Update this path to your actual PCD file path\n",
    "#pcd = o3d.io.read_point_cloud(pcd_path)\n",
    "\n",
    "#DATANAME = \"appartment_cloud.ply\"\n",
    "#pcd = o3d.io.read_point_cloud(DATANAME)\n"
   ]
  },
  {
   "cell_type": "code",
   "execution_count": null,
   "id": "6409cee8-6457-49f8-bcbf-d62e48b7dbb9",
   "metadata": {},
   "outputs": [
    {
     "ename": "",
     "evalue": "",
     "output_type": "error",
     "traceback": [
      "\u001b[1;31mFailed to start the Kernel. \n",
      "\u001b[1;31mImportError: /home/t/anaconda3/envs/segmentation/lib/python3.12/lib-dynload/_sqlite3.cpython-312-x86_64-linux-gnu.so: undefined symbol: sqlite3_deserialize. \n",
      "\u001b[1;31mView Jupyter <a href='command:jupyter.viewOutput'>log</a> for further details."
     ]
    }
   ],
   "source": [
    "pcd_center = pcd.get_center()\n",
    "pcd.translate(-pcd_center)\n",
    "\n",
    "nn = 50\n",
    "std_multiplier = 0.3\n",
    "\n",
    "filtered_pcd = pcd.remove_statistical_outlier(nn, std_multiplier)\n",
    "\n",
    "outliers = pcd.select_by_index(filtered_pcd[1], invert=True)\n",
    "outliers.paint_uniform_color([1, 0, 0])\n",
    "filtered_pcd = filtered_pcd[0]\n",
    "print(pcd)\n",
    "\n",
    "#o3d.visualization.draw_geometries([filtered_pcd, outliers])"
   ]
  },
  {
   "cell_type": "code",
   "execution_count": null,
   "id": "a85069da-7b8a-4bb1-ad4b-fe8427f0fc3e",
   "metadata": {},
   "outputs": [
    {
     "ename": "",
     "evalue": "",
     "output_type": "error",
     "traceback": [
      "\u001b[1;31mFailed to start the Kernel. \n",
      "\u001b[1;31mImportError: /home/t/anaconda3/envs/segmentation/lib/python3.12/lib-dynload/_sqlite3.cpython-312-x86_64-linux-gnu.so: undefined symbol: sqlite3_deserialize. \n",
      "\u001b[1;31mView Jupyter <a href='command:jupyter.viewOutput'>log</a> for further details."
     ]
    }
   ],
   "source": [
    "voxel_size= 0.05\n",
    "\n",
    "pcd_downsampled = filtered_pcd.voxel_down_sample(voxel_size = voxel_size)\n",
    "#o3d.visualization.draw_geometries([pcd_downsampled])"
   ]
  },
  {
   "cell_type": "code",
   "execution_count": null,
   "id": "b2137ba5-080c-4c03-a825-2a4539fe1423",
   "metadata": {},
   "outputs": [
    {
     "ename": "",
     "evalue": "",
     "output_type": "error",
     "traceback": [
      "\u001b[1;31mFailed to start the Kernel. \n",
      "\u001b[1;31mImportError: /home/t/anaconda3/envs/segmentation/lib/python3.12/lib-dynload/_sqlite3.cpython-312-x86_64-linux-gnu.so: undefined symbol: sqlite3_deserialize. \n",
      "\u001b[1;31mView Jupyter <a href='command:jupyter.viewOutput'>log</a> for further details."
     ]
    }
   ],
   "source": [
    "nn_distance = np.mean(pcd.compute_nearest_neighbor_distance())\n",
    "radius_normals = nn_distance*4\n",
    "\n",
    "pcd_downsampled.estimate_normals(search_param=o3d.geometry.KDTreeSearchParamHybrid(radius=radius_normals, max_nn=16), fast_normal_computation=True)\n",
    "pcd_downsampled.paint_uniform_color([0.6, 0.6, 0.6])\n",
    "#o3d.visualization.draw_geometries([pcd_downsampled, outliers])"
   ]
  },
  {
   "cell_type": "code",
   "execution_count": null,
   "id": "b0885030-f89e-4f0b-8956-938775608373",
   "metadata": {},
   "outputs": [
    {
     "ename": "",
     "evalue": "",
     "output_type": "error",
     "traceback": [
      "\u001b[1;31mFailed to start the Kernel. \n",
      "\u001b[1;31mImportError: /home/t/anaconda3/envs/segmentation/lib/python3.12/lib-dynload/_sqlite3.cpython-312-x86_64-linux-gnu.so: undefined symbol: sqlite3_deserialize. \n",
      "\u001b[1;31mView Jupyter <a href='command:jupyter.viewOutput'>log</a> for further details."
     ]
    }
   ],
   "source": [
    "front = [ -0.013937830691568774, 0.092337126925194149, -0.99563024856962534 ]\n",
    "lookat = [ 0.1155990791357997, -0.28634510183152262, -0.010700327508947227 ]\n",
    "up = [ -0.045705399616724998, -0.99474502847220936, -0.09161519947966619 ]\n",
    "zoom = 0.69999999999999996\n",
    "pcd = pcd_downsampled\n",
    "#o3d.visualization.draw_geometries([pcd], zoom=zoom, front=front, lookat=lookat, up=up)"
   ]
  },
  {
   "cell_type": "code",
   "execution_count": null,
   "id": "d9ef5595-d5d2-4056-b744-fd84ab860e20",
   "metadata": {},
   "outputs": [
    {
     "ename": "",
     "evalue": "",
     "output_type": "error",
     "traceback": [
      "\u001b[1;31mFailed to start the Kernel. \n",
      "\u001b[1;31mImportError: /home/t/anaconda3/envs/segmentation/lib/python3.12/lib-dynload/_sqlite3.cpython-312-x86_64-linux-gnu.so: undefined symbol: sqlite3_deserialize. \n",
      "\u001b[1;31mView Jupyter <a href='command:jupyter.viewOutput'>log</a> for further details."
     ]
    }
   ],
   "source": [
    "plane_model, inliers = pcd.segment_plane(distance_threshold=0.05 ,ransac_n=3, num_iterations=10000)\n",
    "[a, b, c, d] = plane_model\n",
    "print(f\"Plane equation: {a:.2f}x + {b:.2f}y + {c:.2f}z + {d:.2f} = 0\")\n",
    "\n",
    "inlier_cloud = pcd.select_by_index(inliers)\n",
    "outlier_cloud = pcd.select_by_index(inliers, invert=True)\n",
    "inlier_cloud.paint_uniform_color([1.0, 0, 0])\n",
    "outlier_cloud.paint_uniform_color([0.6, 0.6, 0.6])\n",
    "#o3d.visualization.draw_geometries([inlier_cloud, outlier_cloud], zoom=zoom, front=front, lookat=lookat, up=up)"
   ]
  },
  {
   "cell_type": "code",
   "execution_count": null,
   "id": "0d83ac9e-7932-44a0-9d4f-d2cad99059e5",
   "metadata": {},
   "outputs": [
    {
     "ename": "",
     "evalue": "",
     "output_type": "error",
     "traceback": [
      "\u001b[1;31mFailed to start the Kernel. \n",
      "\u001b[1;31mImportError: /home/t/anaconda3/envs/segmentation/lib/python3.12/lib-dynload/_sqlite3.cpython-312-x86_64-linux-gnu.so: undefined symbol: sqlite3_deserialize. \n",
      "\u001b[1;31mView Jupyter <a href='command:jupyter.viewOutput'>log</a> for further details."
     ]
    }
   ],
   "source": [
    "max_plane_idx = 12\n",
    "pt_to_plane_dist = 0.04\n",
    "\n",
    "segment_models = {}\n",
    "segments = {}\n",
    "rest = pcd\n",
    "\n",
    "for i in range(max_plane_idx):\n",
    "    colors = plt.get_cmap(\"tab20\")(i)\n",
    "    segment_models[i], inliers = rest.segment_plane(distance_threshold=pt_to_plane_dist, ransac_n=3, num_iterations=20000)\n",
    "    segments[i]=rest.select_by_index(inliers)\n",
    "    segments[i].paint_uniform_color(list(colors[:3]))\n",
    "    rest = rest.select_by_index(inliers, invert=True)\n",
    "\n",
    "o3d.visualization.draw_geometries([segments[i] for i in range(max_plane_idx)] + [rest], zoom=zoom, front=front, lookat=lookat, up=up)"
   ]
  },
  {
   "cell_type": "code",
   "execution_count": null,
   "id": "1fdb388a-421b-4332-94fa-ca3cd3076b86",
   "metadata": {},
   "outputs": [
    {
     "ename": "",
     "evalue": "",
     "output_type": "error",
     "traceback": [
      "\u001b[1;31mFailed to start the Kernel. \n",
      "\u001b[1;31mImportError: /home/t/anaconda3/envs/segmentation/lib/python3.12/lib-dynload/_sqlite3.cpython-312-x86_64-linux-gnu.so: undefined symbol: sqlite3_deserialize. \n",
      "\u001b[1;31mView Jupyter <a href='command:jupyter.viewOutput'>log</a> for further details."
     ]
    }
   ],
   "source": [
    "labels = np.array(rest.cluster_dbscan(eps=0.05, min_points=5))\n",
    "max_label = labels.max()\n",
    "\n",
    "colors= plt.get_cmap(\"tab10\")(labels / (max_label if max_label > 0 else 1))\n",
    "colors[labels < 0] = 0\n",
    "rest.colors = o3d.utility.Vector3dVector(colors[:, :3])\n",
    "o3d.visualization.draw_geometries([segments[i] for i in range(max_plane_idx)] + [rest], zoom=zoom, front=front, lookat=lookat, up=up)\n"
   ]
  }
 ],
 "metadata": {
  "kernelspec": {
   "display_name": "Python 3 (ipykernel)",
   "language": "python",
   "name": "python3"
  },
  "language_info": {
   "codemirror_mode": {
    "name": "ipython",
    "version": 3
   },
   "file_extension": ".py",
   "mimetype": "text/x-python",
   "name": "python",
   "nbconvert_exporter": "python",
   "pygments_lexer": "ipython3",
   "version": "3.12.4"
  }
 },
 "nbformat": 4,
 "nbformat_minor": 5
}
